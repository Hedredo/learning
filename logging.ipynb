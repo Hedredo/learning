{
 "cells": [
  {
   "cell_type": "markdown",
   "metadata": {},
   "source": [
    "# **TUTO**"
   ]
  },
  {
   "cell_type": "markdown",
   "metadata": {},
   "source": [
    "`__name__` variable helps to control if you want to execute some part of your code if you're running the script directly and not from an import."
   ]
  },
  {
   "cell_type": "code",
   "execution_count": 2,
   "metadata": {},
   "outputs": [
    {
     "name": "stdout",
     "output_type": "stream",
     "text": [
      "__main__\n",
      "script\n",
      "You are executing the main script\n",
      "var has been imported from script.py\n"
     ]
    }
   ],
   "source": [
    "# Print the value of __name__ variable\n",
    "print(__name__)\n",
    "\n",
    "# Import var from dep.py\n",
    "from script import var\n",
    "print(var) # var = __name__ in the python file\n",
    "\n",
    "# Check if __name__ returns \n",
    "if __name__ == \"__main__\":\n",
    "    print(\"You are executing the main script\")\n",
    "\n",
    "# Check the __name__ returns from script.py\n",
    "if var != \"__main__\":\n",
    "    print(f\"var has been imported from {var}.py\")"
   ]
  },
  {
   "cell_type": "markdown",
   "metadata": {},
   "source": [
    "Notes:\n",
    "- If you don't init a logger/handler, logging.info() -or others levels- will automatically under the hood `logging.basicConfig()`\n",
    "- The call to `logging.basicConfig()` with default setting with no logfile and logging level set to logging.warning (or 30) for **every loggers**\n",
    "- **A handler will be init too and you won't be able to reinit the basic config without deleting existing handler or restarting the kernel**\n",
    "- Logging use `sys.stderr` as main output file with higher priority than print file arg default `sys.stdout`"
   ]
  },
  {
   "cell_type": "code",
   "execution_count": 1,
   "metadata": {},
   "outputs": [
    {
     "name": "stderr",
     "output_type": "stream",
     "text": [
      "Logging use the standard error output file -sys.stderr- with high priority\n",
      "WARNING:root:Watch out!\n",
      "ERROR:root:Non critical error\n"
     ]
    },
    {
     "name": "stdout",
     "output_type": "stream",
     "text": [
      "print use by default standard output file -sys.stdout- with a lower priority\n",
      "[]\n",
      "[<StreamHandler stderr (NOTSET)>]\n"
     ]
    }
   ],
   "source": [
    "import logging\n",
    "import sys\n",
    "print(\"print use by default standard output file -sys.stdout- with a lower priority\", file=sys.stdout) # Using flush is important here \n",
    "# Be sure you have restarted your kernel before executing this code\n",
    "print(logging.getLogger().handlers)\n",
    "print(\"Logging use the standard error output file -sys.stderr- with high priority\", file=sys.stderr)\n",
    "logging.warning('Watch out!')  # will print a message to the console\n",
    "print(logging.getLogger().handlers)\n",
    "logging.error(\"Non critical error\")\n",
    "logging.info('I told you so')  # will not print anything"
   ]
  },
  {
   "cell_type": "markdown",
   "metadata": {},
   "source": [
    "Notes:\n",
    "- After a handler has been init, you are forced to delete them with assigning an empty list before being able to modify the basicConfig options\n",
    "- You can use a logfile to track\n",
    "- You can set the level using int or logging.level"
   ]
  },
  {
   "cell_type": "code",
   "execution_count": 9,
   "metadata": {},
   "outputs": [],
   "source": [
    "import logging\n",
    "# If you don't want to restart the kernel and modify some options, just set a empty list \n",
    "logging.getLogger().handlers = []\n",
    "logging.basicConfig(\n",
    "    filename='example.log',\n",
    "    encoding='utf-8', # encoding style\n",
    "    format=\"%(asctime)s %(levelname)s: %(message)s\", # time + severty level + message\n",
    "    datefmt='%d/%m/%Y %I:%M:%S %p', # time format\n",
    "    filemode='a', # 'w' to write a new file, 'a' to append to the existing file\n",
    "    level=30 # you can also pass the int level as 10 here. Be careful as it's the minimum value\n",
    "    )\n",
    "logging.debug('This message should go to the log file')\n",
    "logging.info('So should this')\n",
    "logging.warning('And this, too')\n",
    "logging.error('And non-ASCII stuff, too, like Øresund and Malmö')"
   ]
  },
  {
   "cell_type": "code",
   "execution_count": 2,
   "metadata": {},
   "outputs": [
    {
     "name": "stdout",
     "output_type": "stream",
     "text": [
      "DEBUG 10\n",
      "INFO 20\n",
      "WARNING 30\n",
      "ERROR 40\n",
      "CRITICAL 50\n"
     ]
    }
   ],
   "source": [
    "# Get the level of severity for each level\n",
    "for loglevel in ('debug', 'info', 'warning', 'error', 'critical'):\n",
    "    print(loglevel.upper(), getattr(logging, loglevel.upper()))"
   ]
  },
  {
   "cell_type": "code",
   "execution_count": 1,
   "metadata": {},
   "outputs": [
    {
     "name": "stderr",
     "output_type": "stream",
     "text": [
      "2025-02-16 15:13:59,924 - script - DEBUG - Le logger de script.py a été initialisé.\n"
     ]
    },
    {
     "name": "stdout",
     "output_type": "stream",
     "text": [
      "Loggers créés par les modules importés :\n",
      "- concurrent.futures\n",
      "- concurrent\n",
      "- asyncio\n",
      "- tornado.access\n",
      "- tornado\n",
      "- tornado.application\n",
      "- tornado.general\n",
      "- stack_data.serializing\n",
      "- stack_data\n",
      "- parso\n",
      "- prompt_toolkit.buffer\n",
      "- prompt_toolkit\n",
      "- parso.python.diff\n",
      "- parso.python\n",
      "- parso.cache\n",
      "- Comm\n",
      "- ipykernel.comm\n",
      "- ipykernel\n",
      "- IPKernelApp\n",
      "- script\n"
     ]
    }
   ],
   "source": [
    "import logging\n",
    "import script\n",
    "\n",
    "# Afficher tous les loggers créés selon les imports\n",
    "print(\"Loggers créés par les modules importés :\")\n",
    "for name, logger in logging.Logger.manager.loggerDict.items():\n",
    "    print(f\"- {name}\")\n"
   ]
  },
  {
   "cell_type": "markdown",
   "metadata": {},
   "source": [
    "logging.basicConfig will overide every logger level.<br>\n",
    "**Best practice is to set each logger manually than using basicConfig.**"
   ]
  },
  {
   "cell_type": "code",
   "execution_count": null,
   "metadata": {},
   "outputs": [
    {
     "name": "stdout",
     "output_type": "stream",
     "text": [
      "script 10\n",
      "__main__ 50\n"
     ]
    }
   ],
   "source": [
    "import logging\n",
    "import script\n",
    "\n",
    "# Using basicConfig set the level by default for EVERY loggers so you should set up each logger level manually\n",
    "logger = logging.getLogger(__name__)\n",
    "logger.setLevel(50)\n",
    "\n",
    "# Check which logger level you have on script\n",
    "script_logger = logging.getLogger(\"script\")\n",
    "\n",
    "# Check the level for each logger\n",
    "for log in (script_logger, logger):\n",
    "    print(log.name, log.level) # name attribute & level attribute\n"
   ]
  },
  {
   "cell_type": "markdown",
   "metadata": {},
   "source": [
    "# **EXEMPLE & CHEAT SHEET**"
   ]
  },
  {
   "cell_type": "markdown",
   "metadata": {},
   "source": [
    "The logging library takes a modular approach and offers several categories of components: loggers, handlers, filters, and formatters.\n",
    "- **Loggers** expose the interface that application code directly uses.\n",
    "- **Handlers** send the log records (created by loggers) to the appropriate destination.\n",
    "- **Filters** provide a finer grained facility for determining which log records to output.\n",
    "- **Formatters** specify the layout of log records in the final output."
   ]
  },
  {
   "cell_type": "code",
   "execution_count": null,
   "metadata": {},
   "outputs": [],
   "source": [
    "import logging\n",
    "\n",
    "# Création du logger\n",
    "logger = logging.getLogger('mon_logger')\n",
    "logger.setLevel(logging.DEBUG)  # Niveau général du logger\n",
    "\n",
    "# Supprimer les anciens handlers si nécessaire\n",
    "logger.handlers = []\n",
    "\n",
    "# Formatters\n",
    "formatter_console = logging.Formatter('%(asctime)s - %(name)s - %(levelname)s - %(message)s')\n",
    "formatter_file = logging.Formatter('%(asctime)s - %(levelname)s - %(message)s')\n",
    "\n",
    "# Handler pour la console\n",
    "console_handler = logging.StreamHandler()\n",
    "console_handler.setLevel(logging.DEBUG)  # Tous les logs dans la console\n",
    "console_handler.setFormatter(formatter_console)\n",
    "\n",
    "# Ajout d'un filtre pour le StreamHandler\n",
    "class KeywordFilter(logging.Filter): # Hérite de la classe Filter\n",
    "    def filter(self, record): # Objet record instancié par Logging\n",
    "        return 'ERROR' in record.getMessage()  # Filtrer uniquement les messages contenant 'ERROR'\n",
    "\n",
    "console_handler.addFilter(KeywordFilter())\n",
    "\n",
    "# Handler pour un fichier\n",
    "file_handler = logging.FileHandler('mon_log.log')\n",
    "file_handler.setLevel(logging.WARNING)  # Seulement les WARNING et plus graves dans le fichier\n",
    "file_handler.setFormatter(formatter_file)\n",
    "\n",
    "# Ajouter les handlers au logger\n",
    "logger.addHandler(console_handler)\n",
    "logger.addHandler(file_handler)\n",
    "\n",
    "# Exemples de logs\n",
    "logger.debug(\"C'est un message DEBUG\")\n",
    "logger.info(\"C'est un message INFO\")\n",
    "logger.warning(\"C'est un message WARNING\")\n",
    "logger.error(\"C'est un message ERROR\")\n"
   ]
  },
  {
   "cell_type": "markdown",
   "metadata": {},
   "source": [
    "L'objet `record` passé au **filter** dans le système de `logging` de Python est une instance de la classe `LogRecord`. Cet objet contient toutes les informations relatives à l'événement de log qui vient d'être émis. Il est utilisé pour transmettre des données supplémentaires sur le message de log, telles que le niveau de sévérité, la source du message, le message lui-même, etc.\n",
    "\n",
    "### Attributs de `LogRecord` :\n",
    "\n",
    "Voici quelques attributs clés que tu peux utiliser sur un objet `record` :\n",
    "\n",
    "1. **`record.getMessage()`** : Retourne le message de log, après que les arguments ont été formatés. C'est le texte du message que tu passes à la méthode `logger.log()` (par exemple, `\"C'est un message d'erreur\"`).\n",
    "\n",
    "2. **`record.levelname`** : Le nom du niveau de log (par exemple, `'DEBUG'`, `'INFO'`, `'WARNING'`, `'ERROR'`, `'CRITICAL'`).\n",
    "\n",
    "3. **`record.levelno`** : Le niveau du message sous forme numérique (par exemple, `10` pour `DEBUG`, `20` pour `INFO`, `30` pour `WARNING`, etc.).\n",
    "\n",
    "4. **`record.name`** : Le nom du logger. Cela peut être utile si tu utilises plusieurs loggers avec des noms différents.\n",
    "\n",
    "5. **`record.pathname`** : Le chemin absolu du fichier source à partir duquel le message de log a été émis.\n",
    "\n",
    "6. **`record.filename`** : Le nom du fichier source (sans le chemin) à partir duquel le message de log a été émis.\n",
    "\n",
    "7. **`record.module`** : Le nom du module (ou du fichier) où le message de log a été généré.\n",
    "\n",
    "8. **`record.funcName`** : Le nom de la fonction où le message a été émis.\n",
    "\n",
    "9. **`record.lineno`** : Le numéro de ligne du fichier source où le message de log a été émis.\n",
    "\n",
    "10. **`record.exc_info`** : Si une exception a été levée, ce champ contiendra un tuple `(type, value, traceback)` de l'exception.\n",
    "\n",
    "11. **`record.stack_info`** : Si un traceback est disponible, cette information contient un objet représentant les informations de la pile (par exemple, dans un log de niveau `ERROR`).\n",
    "\n",
    "12. **`record.args`** : Si des arguments ont été passés au message de log (par exemple, avec un formatage comme `logger.debug(\"Un nombre : %d\", 5)`), cet attribut contiendra ces arguments.\n",
    "\n",
    "13. **`record.created`** : L'heure (en secondes depuis l'époque) à laquelle l'enregistrement du log a été créé.\n",
    "\n",
    "14. **`record.msecs`** : Les millisecondes de l'heure à laquelle l'enregistrement du log a été créé.\n",
    "\n",
    "15. **`record.relativeCreated`** : Le temps écoulé depuis que le processus a démarré, au moment où l'enregistrement a été créé.\n",
    "\n",
    "16. **`record.thread`** : L'identifiant du thread qui a émis le message de log.\n",
    "\n",
    "17. **`record.threadName`** : Le nom du thread qui a émis le message de log.\n",
    "\n",
    "18. **`record.process`** : L'identifiant du processus qui a émis le message de log.\n",
    "\n",
    "19. **`record.processName`** : Le nom du processus qui a émis le message de log.\n",
    "\n",
    "### Méthodes supplémentaires :\n",
    "En plus de `getMessage()`, tu peux aussi manipuler directement l'objet `record` avec des méthodes comme :\n",
    "- **`record.getMessage()`** : Retourne le message de log formaté.\n",
    "- **`record.exc_info`** : Permet de récupérer ou d'ajouter des informations sur une exception (utile pour le logging d'exception).\n"
   ]
  },
  {
   "cell_type": "markdown",
   "metadata": {},
   "source": [
    "**Import logging config from a config file is a good pratice & easier to centralize.**"
   ]
  },
  {
   "cell_type": "code",
   "execution_count": null,
   "metadata": {},
   "outputs": [],
   "source": [
    "import logging.config\n",
    "\n",
    "logging.config.fileConfig('logging.conf')"
   ]
  }
 ],
 "metadata": {
  "kernelspec": {
   "display_name": "Python 3",
   "language": "python",
   "name": "python3"
  },
  "language_info": {
   "codemirror_mode": {
    "name": "ipython",
    "version": 3
   },
   "file_extension": ".py",
   "mimetype": "text/x-python",
   "name": "python",
   "nbconvert_exporter": "python",
   "pygments_lexer": "ipython3",
   "version": "3.12.1"
  }
 },
 "nbformat": 4,
 "nbformat_minor": 2
}
