{
 "cells": [
  {
   "cell_type": "markdown",
   "metadata": {},
   "source": [
    "`__name__` variable helps to control if you want to execute some part of your code if you're running the script directly and not from an import."
   ]
  },
  {
   "cell_type": "code",
   "execution_count": 2,
   "metadata": {},
   "outputs": [
    {
     "name": "stdout",
     "output_type": "stream",
     "text": [
      "__main__\n",
      "script\n",
      "You are executing the main script\n",
      "var has been imported from script.py\n"
     ]
    }
   ],
   "source": [
    "# Print the value of __name__ variable\n",
    "print(__name__)\n",
    "\n",
    "# Import var from dep.py\n",
    "from script import var\n",
    "print(var) # var = __name__ in the python file\n",
    "\n",
    "# Check if __name__ returns \n",
    "if __name__ == \"__main__\":\n",
    "    print(\"You are executing the main script\")\n",
    "\n",
    "# Check the __name__ returns from script.py\n",
    "if var != \"__main__\":\n",
    "    print(f\"var has been imported from {var}.py\")"
   ]
  },
  {
   "cell_type": "markdown",
   "metadata": {},
   "source": [
    "Notes:\n",
    "- If you don't init a logger/handler, logging.info() -or others levels- will automatically under the hood `logging.basicConfig()`\n",
    "- The call to `logging.basicConfig()` with default setting with no logfile and logging level set to logging.warning (or 30)\n",
    "- **A handler will be init too and you won't be able to reinit the basic config without deleting existing handler or restarting the kernel**\n",
    "- Logging use `sys.stderr` as main output file with higher priority than print file arg default `sys.stdout`"
   ]
  },
  {
   "cell_type": "code",
   "execution_count": 1,
   "metadata": {},
   "outputs": [
    {
     "name": "stderr",
     "output_type": "stream",
     "text": [
      "Logging use the standard error output file -sys.stderr- with high priority\n",
      "WARNING:root:Watch out!\n",
      "ERROR:root:Non critical error\n"
     ]
    },
    {
     "name": "stdout",
     "output_type": "stream",
     "text": [
      "print use by default standard output file -sys.stdout- with a lower priority\n",
      "[]\n",
      "[<StreamHandler stderr (NOTSET)>]\n"
     ]
    }
   ],
   "source": [
    "import logging\n",
    "import sys\n",
    "print(\"print use by default standard output file -sys.stdout- with a lower priority\", file=sys.stdout) # Using flush is important here \n",
    "# Be sure you have restarted your kernel before executing this code\n",
    "print(logging.getLogger().handlers)\n",
    "print(\"Logging use the standard error output file -sys.stderr- with high priority\", file=sys.stderr)\n",
    "logging.warning('Watch out!')  # will print a message to the console\n",
    "print(logging.getLogger().handlers)\n",
    "logging.error(\"Non critical error\")\n",
    "logging.info('I told you so')  # will not print anything"
   ]
  },
  {
   "cell_type": "markdown",
   "metadata": {},
   "source": [
    "Notes:\n",
    "- After a handler has been init, you are forced to delete them with assigning an empty list before being able to modify the basicCongif options\n",
    "- You can use a logfile to track\n",
    "- You can set the level using int or logging.level"
   ]
  },
  {
   "cell_type": "code",
   "execution_count": 9,
   "metadata": {},
   "outputs": [],
   "source": [
    "import logging\n",
    "# If you don't want to restart the kernel and modify some options, just set a empty list \n",
    "logging.getLogger().handlers = []\n",
    "logging.basicConfig(\n",
    "    filename='example.log',\n",
    "    encoding='utf-8', # encoding style\n",
    "    format=\"%(asctime)s %(levelname)s: %(message)s\", # time + severty level + message\n",
    "    datefmt='%d/%m/%Y %I:%M:%S %p', # time format\n",
    "    filemode='a', # 'w' to write a new file, 'a' to append to the existing file\n",
    "    level=30 # you can also pass the int level as 10 here. Be careful as it's the minimum value\n",
    "    )\n",
    "logging.debug('This message should go to the log file')\n",
    "logging.info('So should this')\n",
    "logging.warning('And this, too')\n",
    "logging.error('And non-ASCII stuff, too, like Øresund and Malmö')"
   ]
  },
  {
   "cell_type": "code",
   "execution_count": 2,
   "metadata": {},
   "outputs": [
    {
     "name": "stdout",
     "output_type": "stream",
     "text": [
      "DEBUG 10\n",
      "INFO 20\n",
      "WARNING 30\n",
      "ERROR 40\n",
      "CRITICAL 50\n"
     ]
    }
   ],
   "source": [
    "# Get the level of severity for each level\n",
    "for loglevel in ('debug', 'info', 'warning', 'error', 'critical'):\n",
    "    print(loglevel.upper(), getattr(logging, loglevel.upper()))"
   ]
  },
  {
   "cell_type": "markdown",
   "metadata": {},
   "source": [
    "The logging library takes a modular approach and offers several categories of components: loggers, handlers, filters, and formatters.\n",
    "- **Loggers** expose the interface that application code directly uses.\n",
    "- **Handlers** send the log records (created by loggers) to the appropriate destination.\n",
    "- **Filters** provide a finer grained facility for determining which log records to output.\n",
    "- **Formatters** specify the layout of log records in the final output."
   ]
  },
  {
   "cell_type": "code",
   "execution_count": 1,
   "metadata": {},
   "outputs": [
    {
     "name": "stdout",
     "output_type": "stream",
     "text": [
      "Loggers créés par les modules importés :\n",
      "- concurrent.futures\n",
      "- concurrent\n",
      "- asyncio\n",
      "- tornado.access\n",
      "- tornado\n",
      "- tornado.application\n",
      "- tornado.general\n",
      "- stack_data.serializing\n",
      "- stack_data\n",
      "- parso\n",
      "- prompt_toolkit.buffer\n",
      "- prompt_toolkit\n",
      "- parso.python.diff\n",
      "- parso.python\n",
      "- parso.cache\n",
      "- Comm\n",
      "- ipykernel.comm\n",
      "- ipykernel\n",
      "- IPKernelApp\n"
     ]
    }
   ],
   "source": [
    "import logging\n",
    "import script\n",
    "\n",
    "# Afficher tous les loggers créés\n",
    "print(\"Loggers créés par les modules importés :\")\n",
    "for name, logger in logging.Logger.manager.loggerDict.items():\n",
    "    print(f\"- {name}\")\n"
   ]
  }
 ],
 "metadata": {
  "kernelspec": {
   "display_name": "Python 3",
   "language": "python",
   "name": "python3"
  },
  "language_info": {
   "codemirror_mode": {
    "name": "ipython",
    "version": 3
   },
   "file_extension": ".py",
   "mimetype": "text/x-python",
   "name": "python",
   "nbconvert_exporter": "python",
   "pygments_lexer": "ipython3",
   "version": "3.12.1"
  }
 },
 "nbformat": 4,
 "nbformat_minor": 2
}
