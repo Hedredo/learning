{
 "cells": [
  {
   "cell_type": "code",
   "execution_count": null,
   "metadata": {},
   "outputs": [
    {
     "ename": "",
     "evalue": "",
     "output_type": "error",
     "traceback": [
      "\u001b[1;31mLes cellules en cours d’exécution avec Python 3.12.8 nécessitent le package ipykernel.\n",
      "\u001b[1;31mExécutez la commande suivante pour installer 'ipykernel' dans l’environnement Python. \n",
      "\u001b[1;31mCommande : '/usr/bin/python -m pip install ipykernel -U --user --force-reinstall'"
     ]
    }
   ],
   "source": [
    "import threading\n",
    "import time\n",
    "# Function to simulate a time-consuming task\n",
    "def print_numbers():\n",
    "    for i in range(1, 6):\n",
    "        print(\"Printing number {i}\")\n",
    "        time.sleep(1)  # Simulate a delay of 1 second\n",
    "# Function to simulate another task\n",
    "def print_letters():\n",
    "    for letter in 'Geeks':\n",
    "        print('Printing letter {letter}')\n",
    "        time.sleep(1)  # Simulate a delay of 1 second\n",
    "# Create two thread objects, one for each function\n",
    "thread1 = threading.Thread(target=print_numbers)\n",
    "thread2 = threading.Thread(target=print_letters)\n",
    "\n",
    "# Start the threads\n",
    "thread1.start()\n",
    "thread2.start()\n",
    "\n",
    "# The main thread waits for both threads to finish\n",
    "thread1.join()\n",
    "thread2.join()\n",
    "\n",
    "print('Both threads have finished')\n"
   ]
  }
 ],
 "metadata": {
  "kernelspec": {
   "display_name": "Python 3",
   "language": "python",
   "name": "python3"
  },
  "language_info": {
   "name": "python",
   "version": "3.12.8"
  }
 },
 "nbformat": 4,
 "nbformat_minor": 2
}
