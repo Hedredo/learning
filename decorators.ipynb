{
 "cells": [
  {
   "cell_type": "code",
   "execution_count": 4,
   "metadata": {},
   "outputs": [],
   "source": [
    "from functools import cached_property"
   ]
  },
  {
   "cell_type": "markdown",
   "metadata": {},
   "source": [
    "# **Principaux décorateurs**"
   ]
  },
  {
   "cell_type": "markdown",
   "metadata": {},
   "source": [
    "## **@classmethod**\n",
    "\n",
    "**Fonctionnement**<br>\n",
    "La méthode n'appelle pas l'objet instancié, def fonction(self), mais la classe directement, def fonction(cls).<br>\n",
    "Utile pour modifier des attributs de classe dynamiquement.<br>\n",
    "\n",
    "**Utilité**\n",
    "- **Gestion des attributs de classe** : Comme dans l’exemple ci-dessus, une méthode de classe peut être utilisée pour gérer des attributs partagés par toutes les instances de la classe.\n",
    "- **Constructeurs alternatifs** : Les méthodes de classe peuvent servir de constructeurs alternatifs. Par exemple, vous pouvez avoir une méthode de classe qui initialise une instance de différentes manières.\n",
    "- **Validateur avec Pydantic**\n",
    "- **Polymorphisme** : Les méthodes de classe permettent d’utiliser le polymorphisme, car elles peuvent être redéfinies dans les sous-classes et appelées de manière appropriée."
   ]
  },
  {
   "cell_type": "code",
   "execution_count": null,
   "metadata": {},
   "outputs": [
    {
     "name": "stdout",
     "output_type": "stream",
     "text": [
      "0. Attribut nombre_instances après définition de la classe sans instancier d'objets 0\n",
      "1. Attribut de l'objet a instancié 1\n",
      "2. Attribut de l'objet b instancié 2\n",
      "3. Attribut de l'objet c instancié 3\n",
      "3. Attribut directement appelé sur la classe 3\n",
      "3. Vérification sur a 3\n",
      "3. Vérification sur b 3\n",
      "3. Vérification sur c 3\n"
     ]
    }
   ],
   "source": [
    "# DEMO : Gestion des attributs de classe\n",
    "class CompteurInstances:\n",
    "    nombre_instances = 0\n",
    "\n",
    "    def __init__(self):\n",
    "        CompteurInstances.incrementer_compteur() # Appele la méthode de classe à chaque instanciation d'objets\n",
    "\n",
    "    @classmethod\n",
    "    def incrementer_compteur(cls):\n",
    "        cls.nombre_instances += 1\n",
    "\n",
    "print(\"0. Attribut nombre_instances après définition de la classe sans instancier d'objets\", CompteurInstances.nombre_instances)  # Affiche 3\n",
    "\n",
    "# Création de plusieurs instances\n",
    "a = CompteurInstances()\n",
    "print(\"1. Attribut de l'objet a instancié\", a.nombre_instances)\n",
    "b = CompteurInstances()\n",
    "print(\"2. Attribut de l'objet b instancié\", b.nombre_instances)\n",
    "c = CompteurInstances()\n",
    "print(\"3. Attribut de l'objet c instancié\", c.nombre_instances)\n",
    "\n",
    "print(\"3. Attribut directement appelé sur la classe\", CompteurInstances.nombre_instances)  # Affiche 3\n",
    "\n",
    "for idx, (instance, name) in enumerate(zip((a, b, c), (\"a\", \"b\", \"c\"))):\n",
    "    print(\"3. Vérification sur\", name,  instance.nombre_instances)"
   ]
  },
  {
   "cell_type": "code",
   "execution_count": null,
   "metadata": {},
   "outputs": [],
   "source": [
    "# DEMO : Constructeurs alternatifs (pour créer une instance outrepassant __init__)\n",
    "class Personne:\n",
    "    def __init__(self, prenom, nom):\n",
    "        self.prenom = prenom\n",
    "        self.nom = nom\n",
    "\n",
    "    @classmethod\n",
    "    def depuis_nom_complet(cls, nom_complet):\n",
    "        prenom, nom = nom_complet.split()\n",
    "        return cls(prenom, nom)\n",
    "\n",
    "    @classmethod\n",
    "    def depuis_initiales(cls, initiales):\n",
    "        prenom, nom = initiales.split('.')\n",
    "        return cls(prenom, nom)\n",
    "\n",
    "# Utilisation des constructeurs alternatifs\n",
    "personne1 = Personne.depuis_nom_complet(\"Jean Dupont\")\n",
    "personne2 = Personne.depuis_initiales(\"J.Dupont\")\n",
    "\n",
    "print(f\"Personne 1: {personne1.prenom} {personne1.nom}\")  # Affiche: Personne 1: Jean Dupont\n",
    "print(f\"Personne 2: {personne2.prenom} {personne2.nom}\")  # Affiche: Personne 2: J Dupont\n"
   ]
  },
  {
   "cell_type": "code",
   "execution_count": 20,
   "metadata": {},
   "outputs": [
    {
     "name": "stdout",
     "output_type": "stream",
     "text": [
      "nom='Alice' age=30\n"
     ]
    },
    {
     "ename": "TypeError",
     "evalue": "ValidationError.__new__() missing 1 required positional argument: 'line_errors'",
     "output_type": "error",
     "traceback": [
      "\u001b[0;31m---------------------------------------------------------------------------\u001b[0m",
      "\u001b[0;31mValueError\u001b[0m                                Traceback (most recent call last)",
      "Cell \u001b[0;32mIn[20], line 12\u001b[0m, in \u001b[0;36mUtilisateur.depuis_chaine\u001b[0;34m(cls, chaine)\u001b[0m\n\u001b[1;32m     11\u001b[0m     nom, age \u001b[38;5;241m=\u001b[39m chaine\u001b[38;5;241m.\u001b[39msplit(\u001b[38;5;124m'\u001b[39m\u001b[38;5;124m,\u001b[39m\u001b[38;5;124m'\u001b[39m)\n\u001b[0;32m---> 12\u001b[0m     \u001b[38;5;28;01mreturn\u001b[39;00m \u001b[38;5;28mcls\u001b[39m(nom\u001b[38;5;241m=\u001b[39mnom\u001b[38;5;241m.\u001b[39mstrip(), age\u001b[38;5;241m=\u001b[39m\u001b[38;5;28;43mint\u001b[39;49m\u001b[43m(\u001b[49m\u001b[43mage\u001b[49m\u001b[38;5;241;43m.\u001b[39;49m\u001b[43mstrip\u001b[49m\u001b[43m(\u001b[49m\u001b[43m)\u001b[49m\u001b[43m)\u001b[49m)\n\u001b[1;32m     13\u001b[0m \u001b[38;5;28;01mexcept\u001b[39;00m \u001b[38;5;167;01mValueError\u001b[39;00m \u001b[38;5;28;01mas\u001b[39;00m e:\n",
      "\u001b[0;31mValueError\u001b[0m: invalid literal for int() with base 10: 'trente'",
      "\nDuring handling of the above exception, another exception occurred:\n",
      "\u001b[0;31mTypeError\u001b[0m                                 Traceback (most recent call last)",
      "Cell \u001b[0;32mIn[20], line 24\u001b[0m\n\u001b[1;32m     21\u001b[0m     \u001b[38;5;28mprint\u001b[39m(e)\n\u001b[1;32m     23\u001b[0m \u001b[38;5;28;01mtry\u001b[39;00m:\n\u001b[0;32m---> 24\u001b[0m     utilisateur_invalide \u001b[38;5;241m=\u001b[39m \u001b[43mUtilisateur\u001b[49m\u001b[38;5;241;43m.\u001b[39;49m\u001b[43mdepuis_chaine\u001b[49m\u001b[43m(\u001b[49m\u001b[38;5;124;43m\"\u001b[39;49m\u001b[38;5;124;43mBob, trente\u001b[39;49m\u001b[38;5;124;43m\"\u001b[39;49m\u001b[43m)\u001b[49m\n\u001b[1;32m     25\u001b[0m \u001b[38;5;28;01mexcept\u001b[39;00m ValidationError \u001b[38;5;28;01mas\u001b[39;00m e:\n\u001b[1;32m     26\u001b[0m     \u001b[38;5;28mprint\u001b[39m(e)  \u001b[38;5;66;03m# Affiche une erreur de validation\u001b[39;00m\n",
      "Cell \u001b[0;32mIn[20], line 14\u001b[0m, in \u001b[0;36mUtilisateur.depuis_chaine\u001b[0;34m(cls, chaine)\u001b[0m\n\u001b[1;32m     12\u001b[0m     \u001b[38;5;28;01mreturn\u001b[39;00m \u001b[38;5;28mcls\u001b[39m(nom\u001b[38;5;241m=\u001b[39mnom\u001b[38;5;241m.\u001b[39mstrip(), age\u001b[38;5;241m=\u001b[39m\u001b[38;5;28mint\u001b[39m(age\u001b[38;5;241m.\u001b[39mstrip()))\n\u001b[1;32m     13\u001b[0m \u001b[38;5;28;01mexcept\u001b[39;00m \u001b[38;5;167;01mValueError\u001b[39;00m \u001b[38;5;28;01mas\u001b[39;00m e:\n\u001b[0;32m---> 14\u001b[0m     \u001b[38;5;28;01mraise\u001b[39;00m \u001b[43mValidationError\u001b[49m\u001b[43m(\u001b[49m\u001b[38;5;124;43mf\u001b[39;49m\u001b[38;5;124;43m\"\u001b[39;49m\u001b[38;5;124;43mErreur de validation: \u001b[39;49m\u001b[38;5;132;43;01m{\u001b[39;49;00m\u001b[43me\u001b[49m\u001b[38;5;132;43;01m}\u001b[39;49;00m\u001b[38;5;124;43m\"\u001b[39;49m\u001b[43m)\u001b[49m\n",
      "\u001b[0;31mTypeError\u001b[0m: ValidationError.__new__() missing 1 required positional argument: 'line_errors'"
     ]
    }
   ],
   "source": [
    "# DEMO : Validateur avec Pydantic\n",
    "from pydantic import BaseModel, Field, ValidationError\n",
    "\n",
    "class Utilisateur(BaseModel):\n",
    "    nom: str\n",
    "    age: int\n",
    "\n",
    "    @classmethod\n",
    "    def depuis_chaine(cls, chaine: str):\n",
    "        try:\n",
    "            nom, age = chaine.split(',')\n",
    "            return cls(nom=nom.strip(), age=int(age.strip()))\n",
    "        except ValueError as e:\n",
    "            raise ValidationError(f\"Erreur de validation: {e}\")\n",
    "\n",
    "# Utilisation\n",
    "try:\n",
    "    utilisateur = Utilisateur.depuis_chaine(\"Alice, 30\")\n",
    "    print(utilisateur)\n",
    "except ValidationError as e:\n",
    "    print(e)\n",
    "\n",
    "try:\n",
    "    utilisateur_invalide = Utilisateur.depuis_chaine(\"Bob, trente\")\n",
    "except ValidationError as e:\n",
    "    print(e)  # Affiche une erreur de validation\n",
    "\n"
   ]
  },
  {
   "cell_type": "code",
   "execution_count": null,
   "metadata": {},
   "outputs": [
    {
     "name": "stdout",
     "output_type": "stream",
     "text": [
      "Rex dit Woof!\n",
      "Whiskers dit Meow!\n"
     ]
    }
   ],
   "source": [
    "# DEMO : POLYMORPHISME est utilisable également avec les @classmethod\n",
    "class Animal:\n",
    "    def __init__(self, nom):\n",
    "        self.nom = nom\n",
    "\n",
    "    @classmethod\n",
    "    def parler(cls):\n",
    "        raise NotImplementedError(\"Cette méthode doit être redéfinie dans les sous-classes\")\n",
    "\n",
    "class Chien(Animal):\n",
    "    @classmethod\n",
    "    def parler(cls):\n",
    "        return \"Woof!\"\n",
    "\n",
    "class Chat(Animal):\n",
    "    @classmethod\n",
    "    def parler(cls):\n",
    "        return \"Meow!\"\n",
    "\n",
    "# Utilisation du polymorphisme\n",
    "animaux = [Chien(\"Rex\"), Chat(\"Whiskers\")]\n",
    "\n",
    "for animal in animaux:\n",
    "    print(f\"{animal.nom} dit {animal.parler()}\")\n"
   ]
  },
  {
   "cell_type": "markdown",
   "metadata": {},
   "source": [
    "## **@staticmethod**\n",
    "\n",
    "**Fonctionnement**<br>\n",
    "La staticmethod n'appelle ni l'objet instancié (self) ni la classe (cls).<br>\n",
    "Elle peut lier des fonctions dont le concept est lié à la classe.<br>\n",
    "Une classe peut ainsi regrouper des fonctions utilitaires pour mieux organiser son code ou aussi être utilisé pour des méthodes de validation utiles pour la classe.\n",
    "\n",
    "**Utilité**\n",
    "- **Fonctions utilitaires de classe**\n",
    "- **Regroupement de fonctions utilitaires sous un nom de classe**\n",
    "- **Méthodes de validation** : Avec ou sans Pydantic. Moins flexible qu'avec classmethod qui fait appel à cls.\n",
    "- **Méthodes de fabrique** : Idem que constructeur alternatif avec @classmethod mais utilise le constructeur de base et ajoute un wrapper dessus."
   ]
  },
  {
   "cell_type": "code",
   "execution_count": 9,
   "metadata": {},
   "outputs": [
    {
     "name": "stdout",
     "output_type": "stream",
     "text": [
      "8\n"
     ]
    }
   ],
   "source": [
    "# DEMO - Fonction utilitaire de classe\n",
    "class MathUtils:\n",
    "    @staticmethod\n",
    "    def addition(a, b):\n",
    "        return a + b\n",
    "\n",
    "# Utilisation\n",
    "resultat = MathUtils.addition(5, 3)\n",
    "print(resultat)  # Affiche 8\n"
   ]
  },
  {
   "cell_type": "code",
   "execution_count": 10,
   "metadata": {},
   "outputs": [
    {
     "name": "stdout",
     "output_type": "stream",
     "text": [
      "77.0\n"
     ]
    }
   ],
   "source": [
    "# DEMO - Regroupement de fonctions utilitaires sous un nom de classe\n",
    "class Convertisseur:\n",
    "    @staticmethod\n",
    "    def celsius_vers_fahrenheit(celsius):\n",
    "        return celsius * 9/5 + 32\n",
    "\n",
    "# Utilisation\n",
    "print(Convertisseur.celsius_vers_fahrenheit(25))  # Affiche 77.0\n"
   ]
  },
  {
   "cell_type": "code",
   "execution_count": 17,
   "metadata": {},
   "outputs": [
    {
     "name": "stdout",
     "output_type": "stream",
     "text": [
      "True\n",
      "test_1 myemail@email.com\n"
     ]
    },
    {
     "ename": "Exception",
     "evalue": "Input : myemail.com - Please enter a valid email adress. It should contain an @",
     "output_type": "error",
     "traceback": [
      "\u001b[0;31m---------------------------------------------------------------------------\u001b[0m",
      "\u001b[0;31mException\u001b[0m                                 Traceback (most recent call last)",
      "Cell \u001b[0;32mIn[17], line 22\u001b[0m\n\u001b[1;32m     19\u001b[0m test_1 \u001b[38;5;241m=\u001b[39m ValidationUtils(\u001b[38;5;124m\"\u001b[39m\u001b[38;5;124mmyemail@email.com\u001b[39m\u001b[38;5;124m\"\u001b[39m)\n\u001b[1;32m     20\u001b[0m \u001b[38;5;28mprint\u001b[39m(\u001b[38;5;124m\"\u001b[39m\u001b[38;5;124mtest_1\u001b[39m\u001b[38;5;124m\"\u001b[39m, test_1\u001b[38;5;241m.\u001b[39memail)\n\u001b[0;32m---> 22\u001b[0m test_2 \u001b[38;5;241m=\u001b[39m \u001b[43mValidationUtils\u001b[49m\u001b[43m(\u001b[49m\u001b[38;5;124;43m\"\u001b[39;49m\u001b[38;5;124;43mmyemail.com\u001b[39;49m\u001b[38;5;124;43m\"\u001b[39;49m\u001b[43m)\u001b[49m\n\u001b[1;32m     23\u001b[0m \u001b[38;5;28mprint\u001b[39m(\u001b[38;5;124m\"\u001b[39m\u001b[38;5;124mtest_2\u001b[39m\u001b[38;5;124m\"\u001b[39m, test_2\u001b[38;5;241m.\u001b[39memail)\n",
      "Cell \u001b[0;32mIn[17], line 8\u001b[0m, in \u001b[0;36mValidationUtils.__init__\u001b[0;34m(self, email)\u001b[0m\n\u001b[1;32m      6\u001b[0m     \u001b[38;5;28mself\u001b[39m\u001b[38;5;241m.\u001b[39memail \u001b[38;5;241m=\u001b[39m email\n\u001b[1;32m      7\u001b[0m \u001b[38;5;28;01melse\u001b[39;00m:\n\u001b[0;32m----> 8\u001b[0m     \u001b[38;5;28;01mraise\u001b[39;00m \u001b[38;5;167;01mException\u001b[39;00m(\u001b[38;5;124mf\u001b[39m\u001b[38;5;124m\"\u001b[39m\u001b[38;5;124mInput : \u001b[39m\u001b[38;5;132;01m{\u001b[39;00memail\u001b[38;5;132;01m}\u001b[39;00m\u001b[38;5;124m - Please enter a valid email adress. It should contain an @\u001b[39m\u001b[38;5;124m\"\u001b[39m)\n",
      "\u001b[0;31mException\u001b[0m: Input : myemail.com - Please enter a valid email adress. It should contain an @"
     ]
    }
   ],
   "source": [
    "# DEMO - Méthode personnalisée de validation des arguments passés\n",
    "class ValidationUtils:\n",
    "    \n",
    "    def __init__(self, email):\n",
    "        if self.est_email_valide(email):\n",
    "            self.email = email\n",
    "        else:\n",
    "            raise Exception(f\"Input : {email} - Please enter a valid email adress. It should contain an @\")\n",
    "    \n",
    "    @staticmethod\n",
    "    def est_email_valide(email):\n",
    "        return \"@\" in email\n",
    "\n",
    "# Utilisation\n",
    "email = \"exemple@domaine.com\"\n",
    "print(ValidationUtils.est_email_valide(email))  # Affiche True\n",
    "\n",
    "\n",
    "test_1 = ValidationUtils(\"myemail@email.com\")\n",
    "print(\"test_1\", test_1.email)\n",
    "\n",
    "test_2 = ValidationUtils(\"myemail.com\")\n",
    "print(\"test_2\", test_2.email)\n"
   ]
  },
  {
   "cell_type": "code",
   "execution_count": 19,
   "metadata": {},
   "outputs": [
    {
     "name": "stdout",
     "output_type": "stream",
     "text": [
      "1 validation error for Utilisateur\n",
      "age\n",
      "  Value error, L'âge doit être positif [type=value_error, input_value=-1, input_type=int]\n",
      "    For further information visit https://errors.pydantic.dev/2.10/v/value_error\n"
     ]
    }
   ],
   "source": [
    "# DEMO : Validateur de classe avec Pydantic + staticmethod\n",
    "\n",
    "from pydantic import BaseModel, Field, field_validator\n",
    "\n",
    "class Utilisateur(BaseModel):\n",
    "    nom: str\n",
    "    age: int\n",
    "\n",
    "    @field_validator(\"age\")\n",
    "    @staticmethod\n",
    "    def verifier_age(age: int) -> int:\n",
    "        if age < 0:\n",
    "            raise ValueError(\"L'âge doit être positif\")\n",
    "        return age\n",
    "\n",
    "# Utilisation\n",
    "try:\n",
    "    utilisateur = Utilisateur(nom=\"Alice\", age=-1)\n",
    "except ValueError as e:\n",
    "    print(e)  # Affiche: L'âge doit être positif\n"
   ]
  },
  {
   "cell_type": "code",
   "execution_count": 18,
   "metadata": {},
   "outputs": [
    {
     "name": "stdout",
     "output_type": "stream",
     "text": [
      "Jean Dupont\n"
     ]
    }
   ],
   "source": [
    "# DEMO - Méthode de fabrique\n",
    "class Personne:\n",
    "    def __init__(self, prenom, nom):\n",
    "        self.prenom = prenom\n",
    "        self.nom = nom\n",
    "\n",
    "    @staticmethod\n",
    "    def depuis_nom_complet(nom_complet):\n",
    "        prenom, nom = nom_complet.split()\n",
    "        return Personne(prenom, nom)\n",
    "\n",
    "# Utilisation\n",
    "personne = Personne.depuis_nom_complet(\"Jean Dupont\")\n",
    "print(f\"{personne.prenom} {personne.nom}\")  # Affiche Jean Dupont\n",
    "\n"
   ]
  },
  {
   "cell_type": "markdown",
   "metadata": {},
   "source": [
    "## **@property**\n",
    "\n",
    "**Fonctionnement** :\n",
    "Cela permets de définir des méthodes qui peuvent être accédées comme des attributs. Utile pour encapsuler l’accès aux attributs privés et utiliser des méthodes de validation.\n",
    "La property peut avoir un setter (avec @attribut.setter), getter (directement initialisé avec @property)\n",
    "\n",
    "**Utilité**:\n",
    "- Encapsulation : contrôle l'accès aux attributs privés avec les méthodes de validation intégrées\n",
    "- Calculs automatisés en fonction d'autres attributs\n",
    "- Code plus propre"
   ]
  },
  {
   "cell_type": "code",
   "execution_count": 26,
   "metadata": {},
   "outputs": [
    {
     "name": "stdout",
     "output_type": "stream",
     "text": [
      "Alice\n",
      "Bob\n"
     ]
    }
   ],
   "source": [
    "class Personne:\n",
    "    def __init__(self, nom, age):\n",
    "        self._nom = nom\n",
    "        self._age = age\n",
    "\n",
    "    # Act as a getter too\n",
    "    @property\n",
    "    def nom(self):\n",
    "        return self._nom\n",
    "\n",
    "    # Modify dynamically the value with validation method\n",
    "    @nom.setter\n",
    "    def nom(self, nouveau_nom):\n",
    "        if not nouveau_nom:\n",
    "            raise ValueError(\"Le nom ne peut pas être vide\")\n",
    "        self._nom = nouveau_nom\n",
    "\n",
    "    @property\n",
    "    def age(self):\n",
    "        return self._age\n",
    "\n",
    "    @age.setter\n",
    "    def age(self, nouvel_age):\n",
    "        if nouvel_age < 0:\n",
    "            raise ValueError(\"L'âge doit être positif\")\n",
    "        self._age = nouvel_age\n",
    "\n",
    "# Utilisation\n",
    "personne = Personne(\"Alice\", 30)\n",
    "print(personne.nom)  # Affiche: Alice\n",
    "personne.nom = \"Bob\"\n",
    "print(personne.nom)  # Affiche: Bob\n",
    "\n"
   ]
  },
  {
   "cell_type": "markdown",
   "metadata": {},
   "source": [
    "## **@abstract method**\n",
    "\n",
    "Utilité : Utilisé dans les classes abstraites pour indiquer que les sous-classes doivent implémenter cette méthode.\n",
    "\n",
    "- Désigner des design pattern avec des méthodes qui se répètent selon les classes. (Ex. SKLEARN Fit() Predict() Transform())\n",
    "- Assure de l'uniformicité sur les noms et ecnourage le polymorphisme pour garder une structure commune entre la classe parent et les classes enfants"
   ]
  },
  {
   "cell_type": "code",
   "execution_count": null,
   "metadata": {},
   "outputs": [],
   "source": [
    "from abc import ABC, abstractmethod\n",
    "\n",
    "class MaClasseAbstraite(ABC):\n",
    "    @abstractmethod\n",
    "    def ma_methode(self):\n",
    "        pass\n"
   ]
  },
  {
   "cell_type": "markdown",
   "metadata": {},
   "source": [
    "## **dataclass**\n",
    "\n",
    "Utilité : Simplifie la création de classes en générant automatiquement des méthodes spéciales comme __init__, __repr__, et __eq__."
   ]
  },
  {
   "cell_type": "code",
   "execution_count": 25,
   "metadata": {},
   "outputs": [
    {
     "name": "stdout",
     "output_type": "stream",
     "text": [
      "6 1\n"
     ]
    }
   ],
   "source": [
    "from dataclasses import dataclass\n",
    "\n",
    "@dataclass\n",
    "class Exemple:\n",
    "    x: int\n",
    "    def __post_init__(self):\n",
    "        self.x += 1\n",
    "    y: int\n",
    "\n",
    "# Utilisation\n",
    "exemple = Exemple(x=5, y=1)\n",
    "print(exemple.x, exemple.y)  # Affiche 6\n"
   ]
  }
 ],
 "metadata": {
  "kernelspec": {
   "display_name": "Python 3",
   "language": "python",
   "name": "python3"
  },
  "language_info": {
   "codemirror_mode": {
    "name": "ipython",
    "version": 3
   },
   "file_extension": ".py",
   "mimetype": "text/x-python",
   "name": "python",
   "nbconvert_exporter": "python",
   "pygments_lexer": "ipython3",
   "version": "3.12.1"
  }
 },
 "nbformat": 4,
 "nbformat_minor": 2
}
