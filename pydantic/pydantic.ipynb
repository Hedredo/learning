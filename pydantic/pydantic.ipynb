{
 "cells": [
  {
   "cell_type": "markdown",
   "metadata": {},
   "source": [
    "- protection contre l'injection dans les args\n",
    "- field validator pour personnalise les conditions d'acceptation (ex. avoir un champs positif si c'est un nombre, avoir un @ si on veut un email)\n",
    "- sérialisation/désérialisation en JSON"
   ]
  },
  {
   "cell_type": "markdown",
   "metadata": {},
   "source": [
    "# BaseModel"
   ]
  },
  {
   "cell_type": "markdown",
   "metadata": {},
   "source": [
    "## Class BaseModel"
   ]
  },
  {
   "cell_type": "code",
   "execution_count": null,
   "metadata": {},
   "outputs": [
    {
     "name": "stdout",
     "output_type": "stream",
     "text": [
      "id=0 name='Thor'\n",
      "id=1 name='The Burden'\n"
     ]
    }
   ],
   "source": [
    "\"\"\"\n",
    "Les attributs de classes à instancier n'ont pas besoin d'être passés dans le constructeur __init__\n",
    "Chaque attribut de classe nécessite d'avoir son type déclaré.\n",
    "Si un champs n'a pas de valeur assigné par défaut, il est mandatory \n",
    "Pour rendre un champs optionnel, il faut lui passer None\n",
    "\"\"\"\n",
    "\n",
    "from pydantic import BaseModel # no qa\n",
    "\n",
    "class Hero(BaseModel):\n",
    "    id: int\n",
    "    name: str = \"Thor\" # When a default value is set, this field is Optionnal\n",
    "\n",
    "# Only giving mandatory field id\n",
    "my_hero = Hero(\n",
    "    id=0,\n",
    "    )\n",
    "print(my_hero)\n",
    "\n",
    "# Adding an unknown field\n",
    "your_hero = Hero(\n",
    "    id=1,\n",
    "    name=\"The Burden\",\n",
    "    age=25, # age is unknown but it won't raise an error, just ignored\n",
    "    )\n",
    "print(your_hero)"
   ]
  },
  {
   "cell_type": "markdown",
   "metadata": {},
   "source": [
    "## Type Coercion"
   ]
  },
  {
   "cell_type": "code",
   "execution_count": 21,
   "metadata": {},
   "outputs": [
    {
     "name": "stdout",
     "output_type": "stream",
     "text": [
      "id=123 name='John Doe' signup_ts=datetime.datetime(2017, 6, 1, 12, 22) friends=[1, 2, 3]\n",
      "123 <class 'int'>\n",
      "2017-06-01 12:22:00 <class 'datetime.datetime'>\n"
     ]
    }
   ],
   "source": [
    "from datetime import datetime\n",
    "\n",
    "from pydantic import BaseModel\n",
    "\n",
    "\n",
    "class User(BaseModel):\n",
    "    id: int\n",
    "    name: str = \"John Doe\"\n",
    "    signup_ts: datetime | None = None\n",
    "    friends: list[int] = []\n",
    "\n",
    "\n",
    "external_data = {\n",
    "    \"id\": \"123\",\n",
    "    \"signup_ts\": \"2017-06-01 12:22\",\n",
    "    \"friends\": [1, \"2\", b\"3\"],\n",
    "}\n",
    "user = User(**external_data)\n",
    "print(user)\n",
    "# > User id=123 name='John Doe' signup_ts=datetime.datetime(2017, 6, 1, 12, 22) friends=[1, 2, 3]\n",
    "print(user.id, type(user.id))\n",
    "# > 123\n",
    "print(user.signup_ts, type(user.signup_ts))"
   ]
  },
  {
   "cell_type": "markdown",
   "metadata": {},
   "source": [
    "## Fonction pydantic.create_model()"
   ]
  },
  {
   "cell_type": "code",
   "execution_count": null,
   "metadata": {},
   "outputs": [
    {
     "name": "stdout",
     "output_type": "stream",
     "text": [
      "name='John Doe' age=30 email='john@example.com'\n"
     ]
    }
   ],
   "source": [
    "\"\"\"\n",
    "La fonction create_model est particulièrement utile lorsque vous avez besoin de générer des modèles basés\n",
    "sur des informations disponibles uniquement au moment de l’exécution.\n",
    "Cela permet de rendre votre code plus flexible et adaptable aux différentes situations.\n",
    "\"\"\"\n",
    "\n",
    "from pydantic import create_model # noqa\n",
    "\n",
    "# Création d'un modèle dynamique\n",
    "PersonModel = create_model(\n",
    "    'Person', # Nom de la classe\n",
    "    name=(str, ...), # Attribut de classe > nom = Tuple(type, None|...) None = Optionnel, ... = Obligatoire\n",
    "    age=(int, ...), # Cela revient à déclarer age: int\n",
    "    email=(str, None) # Cela revient à déclarer email: str = None\n",
    "    )\n",
    "\n",
    "# Utilisation du modèle\n",
    "person = PersonModel(name='John Doe', age=30, email='john@example.com')\n",
    "print(person)\n"
   ]
  },
  {
   "cell_type": "markdown",
   "metadata": {},
   "source": [
    "## Serialisation / Deserialisation"
   ]
  },
  {
   "cell_type": "code",
   "execution_count": 31,
   "metadata": {},
   "outputs": [
    {
     "name": "stdout",
     "output_type": "stream",
     "text": [
      "id=0 name='Thor'\n",
      "{'id': 0, 'name': 'Thor'}\n",
      "id=0 name='Thor'\n"
     ]
    }
   ],
   "source": [
    "from pydantic import BaseModel # no qa\n",
    "\n",
    "class Hero(BaseModel):\n",
    "    id: int\n",
    "    name: str = \"Thor\" # When a default value is set, this field is Optionnal\n",
    "\n",
    "# Only giving mandatory field id\n",
    "my_hero = Hero(\n",
    "    id=0,\n",
    "    )\n",
    "print(my_hero)\n",
    "\n",
    "# Sérialisation en JSON\n",
    "hero_json = my_hero.model_dump()\n",
    "print(hero_json)  # Affiche: {\"id\": 0, \"name\": \"Thor\"}\n",
    "\n",
    "# Désérialisation à partir de JSON\n",
    "new_hero = Hero.model_validate(hero_json)\n",
    "print(new_hero)  # Affiche: id=0 name='Thor'\n"
   ]
  },
  {
   "cell_type": "markdown",
   "metadata": {},
   "source": [
    "# ModelConfig"
   ]
  },
  {
   "cell_type": "markdown",
   "metadata": {},
   "source": [
    "## Class ConfigDict"
   ]
  },
  {
   "cell_type": "markdown",
   "metadata": {},
   "source": [
    "### Set up a parent class only for config\n",
    "    "
   ]
  },
  {
   "cell_type": "code",
   "execution_count": null,
   "metadata": {},
   "outputs": [
    {
     "name": "stdout",
     "output_type": "stream",
     "text": [
      "{'x': 'foo', 'y': 'bar'}\n"
     ]
    }
   ],
   "source": [
    "from pydantic import BaseModel, ConfigDict\n",
    "\n",
    "\n",
    "class Parent(BaseModel):\n",
    "    model_config = ConfigDict(extra='allow')\n",
    "\n",
    "\n",
    "class Model(Parent):\n",
    "    x: str\n",
    "\n",
    "\n",
    "m = Model(x='foo', y='bar')\n",
    "print(m.model_dump())\n",
    "#> {'x': 'foo', 'y': 'bar'}"
   ]
  },
  {
   "cell_type": "markdown",
   "metadata": {},
   "source": [
    "### Attributs : str_max_length, extra"
   ]
  },
  {
   "cell_type": "code",
   "execution_count": null,
   "metadata": {},
   "outputs": [
    {
     "name": "stdout",
     "output_type": "stream",
     "text": [
      "1 validation error for Hero\n",
      "name\n",
      "  String should have at most 10 characters [type=string_too_long, input_value='Nice Looking Minotausorus', input_type=str]\n",
      "    For further information visit https://errors.pydantic.dev/2.10/v/string_too_long\n"
     ]
    }
   ],
   "source": [
    "\"\"\"\n",
    "Renseigner l'attribut de classe model_config inhérité de BaseModel en utilisant pydantic.ConfigDict.\n",
    "str_max_length : longueur maximale de valeur du champs\n",
    "extra : 'ignore', 'allow', ou 'forbid' > gestion des attributs non définis dans le modèle\n",
    "\"\"\"\n",
    "\n",
    "from pydantic import BaseModel, ConfigDict, ValidationError # noqa\n",
    "\n",
    "class Hero(BaseModel):\n",
    "    # Attributes usually defined in the __init__ constructor\n",
    "    id: int\n",
    "    name: str = \"Thor\"\n",
    "\n",
    "    # model_config is an attribute inherited from BaseModel class\n",
    "    model_config = ConfigDict(\n",
    "        str_max_length=10,\n",
    "        extra='forbid' # Forbid will raise an ValidationError if you instantiate a class object with unknown attribute\n",
    "        )\n",
    "\n",
    "# Testing a name qui a plus de 10 caractères\n",
    "try:\n",
    "    Hero(id=2, name=\"Nice Looking Minotausorus\")\n",
    "except ValidationError as error:\n",
    "    print(error)"
   ]
  },
  {
   "cell_type": "markdown",
   "metadata": {},
   "source": [
    "### Attributs: ignore_types"
   ]
  },
  {
   "cell_type": "code",
   "execution_count": 29,
   "metadata": {},
   "outputs": [
    {
     "name": "stdout",
     "output_type": "stream",
     "text": [
      "<_FutureCachedPropertyValue for 'MyModel.cached_value' at 0x773c572e4c00>\n",
      "{'id': 1}\n",
      "A non-annotated attribute was detected: `cached_value = <asyncstdlib.functools.CachedProperty object at 0x773c6c35cd40>`. All model fields require a type annotation; if `cached_value` is not meant to be a field, you may be able to resolve this error by annotating it as a `ClassVar` or updating `model_config['ignored_types']`.\n",
      "\n",
      "For further information visit https://errors.pydantic.dev/2.10/u/model-field-missing-annotation\n"
     ]
    }
   ],
   "source": [
    "\"\"\"\n",
    "Permets d'ignorer des champs que vous ne voulez pas inclure dans la validation ou la sérialisation.\n",
    "Raise a PydanticUserError\n",
    "Les propriétés (attributs découlant d'une méthode utilisé avec un décorateur @property ou @cached_property ne sont pas soumis à validation et sérialisation)\n",
    "Fonctionne avec des descripteurs personnalisés tel que CachedProperty de asyncstdlib\n",
    "\"\"\"\n",
    "\n",
    "from pydantic import BaseModel, ConfigDict, PydanticUserError # noqa\n",
    "# from functools import cached_property # noqa\n",
    "from asyncstdlib.functools import CachedProperty # noqa\n",
    "\n",
    "class MyModel(BaseModel):\n",
    "    model_config = ConfigDict(ignored_types=(CachedProperty,))\n",
    "    id: int = 1\n",
    "\n",
    "    @CachedProperty\n",
    "    def cached_value(self):\n",
    "        return 'cached'\n",
    "\n",
    "model = MyModel()\n",
    "print(model.cached_value)  # Affiche 'cached' sans soulever d'erreur\n",
    "print(model.model_dump()) # Sérialise l'objet instancié sans la cached property\n",
    "\n",
    "try:\n",
    "    class MyOtherModel(BaseModel):\n",
    "        model_config = ConfigDict(ignored_types=())\n",
    "        id: int = 1\n",
    "\n",
    "        @CachedProperty\n",
    "        def cached_value(self):\n",
    "            return 'cached'\n",
    "except PydanticUserError as e:\n",
    "    print(e)\n"
   ]
  },
  {
   "cell_type": "markdown",
   "metadata": {},
   "source": [
    "### Attribut: alias_generator"
   ]
  },
  {
   "cell_type": "code",
   "execution_count": null,
   "metadata": {},
   "outputs": [
    {
     "name": "stdout",
     "output_type": "stream",
     "text": [
      "value\n"
     ]
    }
   ],
   "source": [
    "\"\"\"\n",
    "Permets de pouvoir utiliser une clé orthographié ou avec une casse différente lors de l'instantiation d'un objet.\n",
    "\"\"\"\n",
    "\n",
    "from pydantic import BaseModel, ConfigDict # noqa\n",
    "\n",
    "def temporary_alias(field_name: str) -> str:\n",
    "    return field_name.upper()\n",
    "\n",
    "class MyModel(BaseModel):\n",
    "    model_config = ConfigDict(alias_generator=temporary_alias)\n",
    "    my_field: str # field name in lowercase\n",
    "\n",
    "# Utilisation\n",
    "data = {'MY_FIELD': 'value'} # Mfield name in uppercase is valid with the alias_generator\n",
    "model = MyModel(**data)\n",
    "print(model.my_field)  # Affiche 'value'"
   ]
  },
  {
   "cell_type": "markdown",
   "metadata": {},
   "source": [
    "## BaseModel KWArgs"
   ]
  },
  {
   "cell_type": "code",
   "execution_count": null,
   "metadata": {},
   "outputs": [
    {
     "ename": "ValidationError",
     "evalue": "1 validation error for Hero\nname\n  String should have at most 15 characters [type=string_too_long, input_value='Nice Looking Minotausorus', input_type=str]\n    For further information visit https://errors.pydantic.dev/2.10/v/string_too_long",
     "output_type": "error",
     "traceback": [
      "\u001b[0;31m---------------------------------------------------------------------------\u001b[0m",
      "\u001b[0;31mValidationError\u001b[0m                           Traceback (most recent call last)",
      "Cell \u001b[0;32mIn[6], line 7\u001b[0m\n\u001b[1;32m      4\u001b[0m     name: \u001b[38;5;28mstr\u001b[39m \u001b[38;5;241m=\u001b[39m \u001b[38;5;124m\"\u001b[39m\u001b[38;5;124mThor\u001b[39m\u001b[38;5;124m\"\u001b[39m\n\u001b[1;32m      6\u001b[0m \u001b[38;5;66;03m# Testing a name\u001b[39;00m\n\u001b[0;32m----> 7\u001b[0m \u001b[43mHero\u001b[49m\u001b[43m(\u001b[49m\u001b[38;5;28;43mid\u001b[39;49m\u001b[38;5;241;43m=\u001b[39;49m\u001b[38;5;241;43m2\u001b[39;49m\u001b[43m,\u001b[49m\u001b[43m \u001b[49m\u001b[43mname\u001b[49m\u001b[38;5;241;43m=\u001b[39;49m\u001b[38;5;124;43m\"\u001b[39;49m\u001b[38;5;124;43mNice Looking Minotausorus\u001b[39;49m\u001b[38;5;124;43m\"\u001b[39;49m\u001b[43m)\u001b[49m\n",
      "File \u001b[0;32m~/.python/current/lib/python3.12/site-packages/pydantic/main.py:214\u001b[0m, in \u001b[0;36mBaseModel.__init__\u001b[0;34m(self, **data)\u001b[0m\n\u001b[1;32m    212\u001b[0m \u001b[38;5;66;03m# `__tracebackhide__` tells pytest and some other tools to omit this function from tracebacks\u001b[39;00m\n\u001b[1;32m    213\u001b[0m __tracebackhide__ \u001b[38;5;241m=\u001b[39m \u001b[38;5;28;01mTrue\u001b[39;00m\n\u001b[0;32m--> 214\u001b[0m validated_self \u001b[38;5;241m=\u001b[39m \u001b[38;5;28;43mself\u001b[39;49m\u001b[38;5;241;43m.\u001b[39;49m\u001b[43m__pydantic_validator__\u001b[49m\u001b[38;5;241;43m.\u001b[39;49m\u001b[43mvalidate_python\u001b[49m\u001b[43m(\u001b[49m\u001b[43mdata\u001b[49m\u001b[43m,\u001b[49m\u001b[43m \u001b[49m\u001b[43mself_instance\u001b[49m\u001b[38;5;241;43m=\u001b[39;49m\u001b[38;5;28;43mself\u001b[39;49m\u001b[43m)\u001b[49m\n\u001b[1;32m    215\u001b[0m \u001b[38;5;28;01mif\u001b[39;00m \u001b[38;5;28mself\u001b[39m \u001b[38;5;129;01mis\u001b[39;00m \u001b[38;5;129;01mnot\u001b[39;00m validated_self:\n\u001b[1;32m    216\u001b[0m     warnings\u001b[38;5;241m.\u001b[39mwarn(\n\u001b[1;32m    217\u001b[0m         \u001b[38;5;124m'\u001b[39m\u001b[38;5;124mA custom validator is returning a value other than `self`.\u001b[39m\u001b[38;5;130;01m\\n\u001b[39;00m\u001b[38;5;124m'\u001b[39m\n\u001b[1;32m    218\u001b[0m         \u001b[38;5;124m\"\u001b[39m\u001b[38;5;124mReturning anything other than `self` from a top level model validator isn\u001b[39m\u001b[38;5;124m'\u001b[39m\u001b[38;5;124mt supported when validating via `__init__`.\u001b[39m\u001b[38;5;130;01m\\n\u001b[39;00m\u001b[38;5;124m\"\u001b[39m\n\u001b[1;32m    219\u001b[0m         \u001b[38;5;124m'\u001b[39m\u001b[38;5;124mSee the `model_validator` docs (https://docs.pydantic.dev/latest/concepts/validators/#model-validators) for more details.\u001b[39m\u001b[38;5;124m'\u001b[39m,\n\u001b[1;32m    220\u001b[0m         stacklevel\u001b[38;5;241m=\u001b[39m\u001b[38;5;241m2\u001b[39m,\n\u001b[1;32m    221\u001b[0m     )\n",
      "\u001b[0;31mValidationError\u001b[0m: 1 validation error for Hero\nname\n  String should have at most 15 characters [type=string_too_long, input_value='Nice Looking Minotausorus', input_type=str]\n    For further information visit https://errors.pydantic.dev/2.10/v/string_too_long"
     ]
    }
   ],
   "source": [
    "# WAY 2: The default args of BaseModel can be called this way\n",
    "class Hero(BaseModel, str_max_length=15, extra=\"forbid\"):\n",
    "    id: int\n",
    "    name: str = \"Thor\"\n",
    "\n",
    "# Testing a name\n",
    "Hero(id=2, name=\"Nice Looking Minotausorus\")"
   ]
  },
  {
   "cell_type": "markdown",
   "metadata": {},
   "source": [
    "## pydantic.dataclasses"
   ]
  },
  {
   "cell_type": "code",
   "execution_count": 13,
   "metadata": {},
   "outputs": [
    {
     "ename": "ValidationError",
     "evalue": "1 validation error for Hero\nname\n  Input should be a valid string [type=string_type, input_value=2, input_type=int]\n    For further information visit https://errors.pydantic.dev/2.10/v/string_type",
     "output_type": "error",
     "traceback": [
      "\u001b[0;31m---------------------------------------------------------------------------\u001b[0m",
      "\u001b[0;31mValidationError\u001b[0m                           Traceback (most recent call last)",
      "Cell \u001b[0;32mIn[13], line 11\u001b[0m\n\u001b[1;32m      8\u001b[0m     name: \u001b[38;5;28mstr\u001b[39m \u001b[38;5;241m=\u001b[39m \u001b[38;5;124m\"\u001b[39m\u001b[38;5;124mThor\u001b[39m\u001b[38;5;124m\"\u001b[39m\n\u001b[1;32m      9\u001b[0m     signup_ts : datetime \u001b[38;5;241m=\u001b[39m \u001b[38;5;28;01mNone\u001b[39;00m\n\u001b[0;32m---> 11\u001b[0m \u001b[43mHero\u001b[49m\u001b[43m(\u001b[49m\u001b[38;5;28;43mid\u001b[39;49m\u001b[38;5;241;43m=\u001b[39;49m\u001b[38;5;241;43m0\u001b[39;49m\u001b[43m,\u001b[49m\u001b[43m \u001b[49m\u001b[43mname\u001b[49m\u001b[38;5;241;43m=\u001b[39;49m\u001b[38;5;241;43m2\u001b[39;49m\u001b[43m)\u001b[49m\n",
      "File \u001b[0;32m~/.python/current/lib/python3.12/site-packages/pydantic/_internal/_dataclasses.py:121\u001b[0m, in \u001b[0;36mcomplete_dataclass.<locals>.__init__\u001b[0;34m(__dataclass_self__, *args, **kwargs)\u001b[0m\n\u001b[1;32m    119\u001b[0m __tracebackhide__ \u001b[38;5;241m=\u001b[39m \u001b[38;5;28;01mTrue\u001b[39;00m\n\u001b[1;32m    120\u001b[0m s \u001b[38;5;241m=\u001b[39m __dataclass_self__\n\u001b[0;32m--> 121\u001b[0m \u001b[43ms\u001b[49m\u001b[38;5;241;43m.\u001b[39;49m\u001b[43m__pydantic_validator__\u001b[49m\u001b[38;5;241;43m.\u001b[39;49m\u001b[43mvalidate_python\u001b[49m\u001b[43m(\u001b[49m\u001b[43mArgsKwargs\u001b[49m\u001b[43m(\u001b[49m\u001b[43margs\u001b[49m\u001b[43m,\u001b[49m\u001b[43m \u001b[49m\u001b[43mkwargs\u001b[49m\u001b[43m)\u001b[49m\u001b[43m,\u001b[49m\u001b[43m \u001b[49m\u001b[43mself_instance\u001b[49m\u001b[38;5;241;43m=\u001b[39;49m\u001b[43ms\u001b[49m\u001b[43m)\u001b[49m\n",
      "\u001b[0;31mValidationError\u001b[0m: 1 validation error for Hero\nname\n  Input should be a valid string [type=string_type, input_value=2, input_type=int]\n    For further information visit https://errors.pydantic.dev/2.10/v/string_type"
     ]
    }
   ],
   "source": [
    "# WAY 3 : Using the @dataclass decorator from pydantic.dataclasses without BaseModel\n",
    "from pydantic.dataclasses import dataclass\n",
    "from datetime import datetime\n",
    "\n",
    "@dataclass(config=ConfigDict(str_max_length=10, validate_assignement=True))\n",
    "class Hero:\n",
    "    id: int\n",
    "    name: str = \"Thor\"\n",
    "    signup_ts : datetime = None\n",
    "\n",
    "Hero(id=0, name=2)"
   ]
  },
  {
   "cell_type": "markdown",
   "metadata": {},
   "source": [
    "# @field_validator\n",
    "\n"
   ]
  },
  {
   "cell_type": "code",
   "execution_count": null,
   "metadata": {},
   "outputs": [
    {
     "name": "stdout",
     "output_type": "stream",
     "text": [
      "1 validation error for Utilisateur\n",
      "age\n",
      "  Value error, L'âge doit être positif [type=value_error, input_value=-1, input_type=int]\n",
      "    For further information visit https://errors.pydantic.dev/2.10/v/value_error\n"
     ]
    }
   ],
   "source": [
    "# DEMO - VALIDATEUR DE CHAMPS\n",
    "from pydantic import BaseModel, Field, ValidationError, field_validator\n",
    "\n",
    "class Utilisateur(BaseModel):\n",
    "    nom: str\n",
    "    age: int\n",
    "\n",
    "    # \n",
    "    @field_validator(\"age\")\n",
    "    def verifier_age(cls, age):\n",
    "        if age < 0:\n",
    "            raise ValueError(\"L'âge doit être positif\")\n",
    "        return age\n",
    "\n",
    "# Utilisation\n",
    "try:\n",
    "    utilisateur = Utilisateur(nom=\"Alice\", age=-1)\n",
    "except ValidationError as e:\n",
    "    print(e)  # Affiche: 1 validation error for Utilisateur\n",
    "              # age\n",
    "              #   L'âge doit être positif (type=value_error)\n"
   ]
  },
  {
   "cell_type": "code",
   "execution_count": 1,
   "metadata": {},
   "outputs": [
    {
     "name": "stdout",
     "output_type": "stream",
     "text": [
      "id=123 nom='John Doe' age=30\n"
     ]
    },
    {
     "ename": "ValidationError",
     "evalue": "1 validation error for Utilisateur\nage\n  Input should be a valid integer, unable to parse string as an integer [type=int_parsing, input_value='bool', input_type=str]\n    For further information visit https://errors.pydantic.dev/2.10/v/int_parsing",
     "output_type": "error",
     "traceback": [
      "\u001b[0;31m---------------------------------------------------------------------------\u001b[0m",
      "\u001b[0;31mValidationError\u001b[0m                           Traceback (most recent call last)",
      "Cell \u001b[0;32mIn[1], line 12\u001b[0m\n\u001b[1;32m     10\u001b[0m utilisateur \u001b[38;5;241m=\u001b[39m Utilisateur(\u001b[38;5;28mid\u001b[39m\u001b[38;5;241m=\u001b[39m\u001b[38;5;124m'\u001b[39m\u001b[38;5;124m123\u001b[39m\u001b[38;5;124m'\u001b[39m, age\u001b[38;5;241m=\u001b[39m\u001b[38;5;124m'\u001b[39m\u001b[38;5;124m30\u001b[39m\u001b[38;5;124m'\u001b[39m)\n\u001b[1;32m     11\u001b[0m \u001b[38;5;28mprint\u001b[39m(utilisateur)\n\u001b[0;32m---> 12\u001b[0m utilisateur \u001b[38;5;241m=\u001b[39m \u001b[43mUtilisateur\u001b[49m\u001b[43m(\u001b[49m\u001b[38;5;28;43mid\u001b[39;49m\u001b[38;5;241;43m=\u001b[39;49m\u001b[38;5;124;43m'\u001b[39;49m\u001b[38;5;124;43m123\u001b[39;49m\u001b[38;5;124;43m'\u001b[39;49m\u001b[43m,\u001b[49m\u001b[43m \u001b[49m\u001b[43mage\u001b[49m\u001b[38;5;241;43m=\u001b[39;49m\u001b[38;5;124;43m'\u001b[39;49m\u001b[38;5;124;43mbool\u001b[39;49m\u001b[38;5;124;43m'\u001b[39;49m\u001b[43m)\u001b[49m\n\u001b[1;32m     13\u001b[0m \u001b[38;5;28mprint\u001b[39m(utilisateur)\n",
      "File \u001b[0;32m~/.python/current/lib/python3.12/site-packages/pydantic/main.py:214\u001b[0m, in \u001b[0;36mBaseModel.__init__\u001b[0;34m(self, **data)\u001b[0m\n\u001b[1;32m    212\u001b[0m \u001b[38;5;66;03m# `__tracebackhide__` tells pytest and some other tools to omit this function from tracebacks\u001b[39;00m\n\u001b[1;32m    213\u001b[0m __tracebackhide__ \u001b[38;5;241m=\u001b[39m \u001b[38;5;28;01mTrue\u001b[39;00m\n\u001b[0;32m--> 214\u001b[0m validated_self \u001b[38;5;241m=\u001b[39m \u001b[38;5;28;43mself\u001b[39;49m\u001b[38;5;241;43m.\u001b[39;49m\u001b[43m__pydantic_validator__\u001b[49m\u001b[38;5;241;43m.\u001b[39;49m\u001b[43mvalidate_python\u001b[49m\u001b[43m(\u001b[49m\u001b[43mdata\u001b[49m\u001b[43m,\u001b[49m\u001b[43m \u001b[49m\u001b[43mself_instance\u001b[49m\u001b[38;5;241;43m=\u001b[39;49m\u001b[38;5;28;43mself\u001b[39;49m\u001b[43m)\u001b[49m\n\u001b[1;32m    215\u001b[0m \u001b[38;5;28;01mif\u001b[39;00m \u001b[38;5;28mself\u001b[39m \u001b[38;5;129;01mis\u001b[39;00m \u001b[38;5;129;01mnot\u001b[39;00m validated_self:\n\u001b[1;32m    216\u001b[0m     warnings\u001b[38;5;241m.\u001b[39mwarn(\n\u001b[1;32m    217\u001b[0m         \u001b[38;5;124m'\u001b[39m\u001b[38;5;124mA custom validator is returning a value other than `self`.\u001b[39m\u001b[38;5;130;01m\\n\u001b[39;00m\u001b[38;5;124m'\u001b[39m\n\u001b[1;32m    218\u001b[0m         \u001b[38;5;124m\"\u001b[39m\u001b[38;5;124mReturning anything other than `self` from a top level model validator isn\u001b[39m\u001b[38;5;124m'\u001b[39m\u001b[38;5;124mt supported when validating via `__init__`.\u001b[39m\u001b[38;5;130;01m\\n\u001b[39;00m\u001b[38;5;124m\"\u001b[39m\n\u001b[1;32m    219\u001b[0m         \u001b[38;5;124m'\u001b[39m\u001b[38;5;124mSee the `model_validator` docs (https://docs.pydantic.dev/latest/concepts/validators/#model-validators) for more details.\u001b[39m\u001b[38;5;124m'\u001b[39m,\n\u001b[1;32m    220\u001b[0m         stacklevel\u001b[38;5;241m=\u001b[39m\u001b[38;5;241m2\u001b[39m,\n\u001b[1;32m    221\u001b[0m     )\n",
      "\u001b[0;31mValidationError\u001b[0m: 1 validation error for Utilisateur\nage\n  Input should be a valid integer, unable to parse string as an integer [type=int_parsing, input_value='bool', input_type=str]\n    For further information visit https://errors.pydantic.dev/2.10/v/int_parsing"
     ]
    }
   ],
   "source": [
    "# Protection contre l'injection avec convertissage automatique et si pas possible, renvoie l'erreur\n",
    "from pydantic import BaseModel, ValidationError\n",
    "\n",
    "class Utilisateur(BaseModel):\n",
    "    id: int\n",
    "    nom: str = 'John Doe'\n",
    "    age: int\n",
    "\n",
    "# Utilisation\n",
    "utilisateur = Utilisateur(id='123', age='30')\n",
    "print(utilisateur)\n",
    "utilisateur = Utilisateur(id='123', age='bool')\n",
    "print(utilisateur)"
   ]
  },
  {
   "cell_type": "code",
   "execution_count": null,
   "metadata": {},
   "outputs": [
    {
     "name": "stdout",
     "output_type": "stream",
     "text": [
      "{\"id\":123,\"nom\":\"John Doe\",\"age\":30}\n"
     ]
    },
    {
     "data": {
      "text/plain": [
       "Utilisateur(id=123, nom='John Doe', age=30)"
      ]
     },
     "execution_count": 12,
     "metadata": {},
     "output_type": "execute_result"
    }
   ],
   "source": [
    "# Sérialisation/Désérialisation\n",
    "utilisateur = Utilisateur(id='123', age='30')\n",
    "json_serialize = utilisateur.model_dump_json() # Sérialisation\n",
    "print(utilisateur.model_dump_json())\n",
    "Utilisateur.model_validate_json(json_serialize) # Désérialisation"
   ]
  },
  {
   "cell_type": "code",
   "execution_count": null,
   "metadata": {},
   "outputs": [
    {
     "name": "stdout",
     "output_type": "stream",
     "text": [
      "123\n",
      "Hello\n"
     ]
    }
   ],
   "source": [
    "from typing import Generic, TypeVar\n",
    "\n",
    "V = TypeVar(\"V\")\n",
    "\n",
    "class Boite(Generic[V]):\n",
    "    def __init__(self, contenu: V):\n",
    "        self.contenu = contenu\n",
    "\n",
    "    def get_contenu(self) -> V:\n",
    "        return self.contenu\n",
    "\n",
    "boite_int = Boite(123)\n",
    "boite_str = Boite(\"Hello\")\n",
    "\n",
    "print(boite_int.get_contenu())  # 123\n",
    "print(boite_str.get_contenu())  # \"Hello\"\n"
   ]
  },
  {
   "cell_type": "code",
   "execution_count": null,
   "metadata": {},
   "outputs": [],
   "source": [
    "from pydantic import BaseModel, ConfigDict\n",
    "\n",
    "class User(BaseModel, extra='allow'):\n",
    "    id: int\n",
    "    name: str = \"Jane Doe\"\n",
    "\n",
    "    model_config = ConfigDict(str_max_length=15)"
   ]
  },
  {
   "cell_type": "code",
   "execution_count": null,
   "metadata": {},
   "outputs": [
    {
     "data": {
      "text/plain": [
       "User(id=1, name='Paulo', unknown='Unknown')"
      ]
     },
     "execution_count": 9,
     "metadata": {},
     "output_type": "execute_result"
    }
   ],
   "source": [
    "User(id=1, name=\"Paulo\", unknown=\"Unknown\")"
   ]
  },
  {
   "cell_type": "markdown",
   "metadata": {},
   "source": [
    "# Type hints"
   ]
  },
  {
   "cell_type": "markdown",
   "metadata": {},
   "source": [
    "https://mypy.readthedocs.io/en/latest/cheat_sheet_py3.html"
   ]
  },
  {
   "cell_type": "markdown",
   "metadata": {},
   "source": [
    "## Python 3.10+ or Typing"
   ]
  },
  {
   "cell_type": "code",
   "execution_count": 10,
   "metadata": {},
   "outputs": [],
   "source": [
    "def get_name_with_age(name: str, age: int) -> str:\n",
    "    return name + \" is this old: \" + str(age)"
   ]
  },
  {
   "cell_type": "code",
   "execution_count": 11,
   "metadata": {},
   "outputs": [],
   "source": [
    "\"\"\"\n",
    "Depuis Python 3.10, la plupart des types de séquence n'ont pas besoin de typing\n",
    "\"\"\"\n",
    "def process_a(items: list[str]):\n",
    "    for item in items:\n",
    "        print(item)"
   ]
  },
  {
   "cell_type": "code",
   "execution_count": 12,
   "metadata": {},
   "outputs": [],
   "source": [
    "\"\"\"\n",
    "Tuple can have multiple types declared.\n",
    "\n",
    "The variable items_t is a tuple with 3 items, an int, another int, and a str.\n",
    "The variable items_s is a set, and each of its items is of type bytes.\n",
    "\"\"\"\n",
    "\n",
    "def process_b(items_t: tuple[int, int, str], items_s: set[bytes]):\n",
    "    return items_t, items_s"
   ]
  },
  {
   "cell_type": "code",
   "execution_count": 13,
   "metadata": {},
   "outputs": [],
   "source": [
    "\"\"\"\n",
    "Pour les dictionnaires, la 1ere valeur représente la clé et la seconde la valeur\n",
    "\"\"\"\n",
    "\n",
    "def process_c(prices: dict[str, float]):\n",
    "    for item_name, item_price in prices.items():\n",
    "        print(item_name)\n",
    "        print(item_price)"
   ]
  },
  {
   "cell_type": "code",
   "execution_count": null,
   "metadata": {},
   "outputs": [],
   "source": [
    "\"\"\"\n",
    "Pipe | is used for int or str here. It's the same as using Union from typing\n",
    "\"\"\"\n",
    "from typing import Union # noqa\n",
    "\n",
    "def process_d(item: int | str, value: Union[int, str]):\n",
    "    print(item)\n",
    "    print(value)"
   ]
  },
  {
   "cell_type": "code",
   "execution_count": 16,
   "metadata": {},
   "outputs": [],
   "source": [
    "\"\"\"\n",
    "Optional can be declare with python with type | None\n",
    "Typing has 2 alternatives:\n",
    "- Optional[type]\n",
    "- Union[type, None]\n",
    "\"\"\"\n",
    "\n",
    "from typing import Optional, Union # noqa\n",
    "\n",
    "def say_hi(name: str | None = None, age: Optional[int] = None, height: Union[int, None] = None):\n",
    "    if name is not None:\n",
    "        print(f\"Hey {name}!\")\n",
    "    else:\n",
    "        print(\"Hello World\")"
   ]
  },
  {
   "cell_type": "code",
   "execution_count": 17,
   "metadata": {},
   "outputs": [
    {
     "data": {
      "text/plain": [
       "'\\nYou can use the same builtin types as generics (with square brackets and types inside):\\n\\nlist\\ntuple\\nset\\ndict\\n'"
      ]
     },
     "execution_count": 17,
     "metadata": {},
     "output_type": "execute_result"
    }
   ],
   "source": [
    "\"\"\"\n",
    "You can use the same builtin types as generics (with square brackets and types inside):\n",
    "\n",
    "list\n",
    "tuple\n",
    "set\n",
    "dict\n",
    "\"\"\""
   ]
  },
  {
   "cell_type": "code",
   "execution_count": 18,
   "metadata": {},
   "outputs": [],
   "source": [
    "\"\"\"\n",
    "Use for class instances\n",
    "\"\"\"\n",
    "\n",
    "class Person:\n",
    "    def __init__(self, name: str):\n",
    "        self.name = name\n",
    "\n",
    "\n",
    "def get_person_name(one_person: Person):\n",
    "    return one_person.name"
   ]
  },
  {
   "cell_type": "markdown",
   "metadata": {},
   "source": [
    "## Annotated"
   ]
  },
  {
   "cell_type": "code",
   "execution_count": 22,
   "metadata": {},
   "outputs": [],
   "source": [
    "\"\"\"\n",
    "Python itself doesn't do anything with this Annotated. And for editors and other tools, the type is still str.\n",
    "\n",
    "But you can use this space in Annotated to provide FastAPI with additional metadata about how you want your application to behave.\n",
    "\n",
    "The important thing to remember is that the first type parameter you pass to Annotated is the actual type. The rest, is just metadata for other tools.\n",
    "\n",
    "For now, you just need to know that Annotated exists, and that it's standard Python. 😎\n",
    "\n",
    "Later you will see how powerful it can be.\n",
    "\"\"\"\n",
    "from typing import Annotated # noqa\n",
    "\n",
    "\n",
    "def say_hello(name: Annotated[str, \"this is just metadata\"]) -> str:\n",
    "    return f\"Hello {name}\""
   ]
  }
 ],
 "metadata": {
  "kernelspec": {
   "display_name": ".venv",
   "language": "python",
   "name": "python3"
  },
  "language_info": {
   "codemirror_mode": {
    "name": "ipython",
    "version": 3
   },
   "file_extension": ".py",
   "mimetype": "text/x-python",
   "name": "python",
   "nbconvert_exporter": "python",
   "pygments_lexer": "ipython3",
   "version": "3.10.16"
  }
 },
 "nbformat": 4,
 "nbformat_minor": 2
}
