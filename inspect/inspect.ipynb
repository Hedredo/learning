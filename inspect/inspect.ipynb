{
 "cells": [
  {
   "cell_type": "code",
   "execution_count": 9,
   "metadata": {},
   "outputs": [],
   "source": [
    "import inspect\n",
    "import numpy"
   ]
  },
  {
   "cell_type": "code",
   "execution_count": 11,
   "metadata": {},
   "outputs": [],
   "source": [
    "# Create a random Class\n",
    "class Whatever(object):\n",
    "    pass\n",
    "\n",
    "# Create a inbuilt function\n",
    "def whatever(arg):\n",
    "    return f\"Hello {str(arg)} !\""
   ]
  },
  {
   "cell_type": "code",
   "execution_count": 8,
   "metadata": {},
   "outputs": [
    {
     "name": "stdout",
     "output_type": "stream",
     "text": [
      "True\n"
     ]
    }
   ],
   "source": [
    "# isclass() - returns true if the arg is a class\n",
    "print(inspect.isclass(Whatever))"
   ]
  },
  {
   "cell_type": "code",
   "execution_count": 10,
   "metadata": {},
   "outputs": [
    {
     "name": "stdout",
     "output_type": "stream",
     "text": [
      "True\n"
     ]
    }
   ],
   "source": [
    "# ismodule()\n",
    "print(inspect.ismodule(numpy))"
   ]
  },
  {
   "cell_type": "code",
   "execution_count": 12,
   "metadata": {},
   "outputs": [
    {
     "name": "stdout",
     "output_type": "stream",
     "text": [
      "True\n"
     ]
    }
   ],
   "source": [
    "# isfunction()\n",
    "print(inspect.isfunction(whatever))"
   ]
  },
  {
   "cell_type": "code",
   "execution_count": 13,
   "metadata": {},
   "outputs": [
    {
     "name": "stdout",
     "output_type": "stream",
     "text": [
      "False\n"
     ]
    }
   ],
   "source": [
    "# ismethod()\n",
    "print(inspect.ismethod(inspect.ismethod))"
   ]
  },
  {
   "cell_type": "code",
   "execution_count": 14,
   "metadata": {},
   "outputs": [
    {
     "name": "stdout",
     "output_type": "stream",
     "text": [
      "(<class '__main__.C'>, <class '__main__.B'>, <class '__main__.A'>, <class 'object'>)\n"
     ]
    }
   ],
   "source": [
    "# create classes \n",
    "class A(object): \n",
    "\tpass\n",
    "\n",
    "class B(A): \n",
    "\tpass\n",
    "\n",
    "class C(B): \n",
    "\tpass\n",
    "\n",
    "# not nested \n",
    "print(inspect.getmro(C)) "
   ]
  },
  {
   "cell_type": "code",
   "execution_count": 26,
   "metadata": {},
   "outputs": [
    {
     "name": "stdout",
     "output_type": "stream",
     "text": [
      "FrameInfo(frame=<frame at 0x72f461290ae0, file '/home/codespace/.local/lib/python3.12/site-packages/IPython/core/interactiveshell.py', line 3577, code run_code>, filename='/home/codespace/.local/lib/python3.12/site-packages/IPython/core/interactiveshell.py', lineno=3577, function='run_code', code_context=['                    exec(code_obj, self.user_global_ns, self.user_ns)\\n'], index=0, positions=Positions(lineno=3577, end_lineno=3577, col_offset=20, end_col_offset=69))\n",
      "run_code\n"
     ]
    }
   ],
   "source": [
    "# This method helps in examining the interpreter stack or the order in which functions were called. \n",
    "print(inspect.stack()[1]) # Return the FrameInfo indexed at 1 in the stack\n",
    "print(inspect.stack()[1][3]) # function name here"
   ]
  },
  {
   "cell_type": "code",
   "execution_count": 28,
   "metadata": {},
   "outputs": [
    {
     "name": "stdout",
     "output_type": "stream",
     "text": [
      "File: /tmp/ipykernel_5411/2330604364.py, Line: 7, Function: bar, Context: ['    stack = inspect.stack()\\n']\n",
      "File: /tmp/ipykernel_5411/2330604364.py, Line: 4, Function: foo, Context: ['    bar()\\n']\n",
      "File: /tmp/ipykernel_5411/2330604364.py, Line: 11, Function: <module>, Context: ['foo()\\n']\n",
      "File: /home/codespace/.local/lib/python3.12/site-packages/IPython/core/interactiveshell.py, Line: 3577, Function: run_code, Context: ['                    exec(code_obj, self.user_global_ns, self.user_ns)\\n']\n",
      "File: /home/codespace/.local/lib/python3.12/site-packages/IPython/core/interactiveshell.py, Line: 3517, Function: run_ast_nodes, Context: ['                if await self.run_code(code, result, async_=asy):\\n']\n",
      "File: /home/codespace/.local/lib/python3.12/site-packages/IPython/core/interactiveshell.py, Line: 3334, Function: run_cell_async, Context: ['                has_raised = await self.run_ast_nodes(code_ast.body, cell_name,\\n']\n",
      "File: /home/codespace/.local/lib/python3.12/site-packages/IPython/core/async_helpers.py, Line: 128, Function: _pseudo_sync_runner, Context: ['        coro.send(None)\\n']\n",
      "File: /home/codespace/.local/lib/python3.12/site-packages/IPython/core/interactiveshell.py, Line: 3130, Function: _run_cell, Context: ['            result = runner(coro)\\n']\n",
      "File: /home/codespace/.local/lib/python3.12/site-packages/IPython/core/interactiveshell.py, Line: 3075, Function: run_cell, Context: ['            result = self._run_cell(\\n']\n",
      "File: /home/codespace/.local/lib/python3.12/site-packages/ipykernel/zmqshell.py, Line: 549, Function: run_cell, Context: ['        return super().run_cell(*args, **kwargs)\\n']\n",
      "File: /home/codespace/.local/lib/python3.12/site-packages/ipykernel/ipkernel.py, Line: 449, Function: do_execute, Context: ['                    res = shell.run_cell(\\n']\n",
      "File: /home/codespace/.local/lib/python3.12/site-packages/ipykernel/kernelbase.py, Line: 778, Function: execute_request, Context: ['            reply_content = await reply_content\\n']\n",
      "File: /home/codespace/.local/lib/python3.12/site-packages/ipykernel/ipkernel.py, Line: 362, Function: execute_request, Context: ['        await super().execute_request(stream, ident, parent)\\n']\n",
      "File: /home/codespace/.local/lib/python3.12/site-packages/ipykernel/kernelbase.py, Line: 437, Function: dispatch_shell, Context: ['                    await result\\n']\n",
      "File: /home/codespace/.local/lib/python3.12/site-packages/ipykernel/kernelbase.py, Line: 534, Function: process_one, Context: ['        await dispatch(*args)\\n']\n",
      "File: /home/codespace/.local/lib/python3.12/site-packages/ipykernel/kernelbase.py, Line: 545, Function: dispatch_queue, Context: ['                await self.process_one()\\n']\n",
      "File: /home/codespace/.python/current/lib/python3.12/asyncio/events.py, Line: 84, Function: _run, Context: ['            self._context.run(self._callback, *self._args)\\n']\n",
      "File: /home/codespace/.python/current/lib/python3.12/asyncio/base_events.py, Line: 1971, Function: _run_once, Context: ['                handle._run()\\n']\n",
      "File: /home/codespace/.python/current/lib/python3.12/asyncio/base_events.py, Line: 638, Function: run_forever, Context: ['                self._run_once()\\n']\n",
      "File: /home/codespace/.local/lib/python3.12/site-packages/tornado/platform/asyncio.py, Line: 205, Function: start, Context: ['        self.asyncio_loop.run_forever()\\n']\n",
      "File: /home/codespace/.local/lib/python3.12/site-packages/ipykernel/kernelapp.py, Line: 739, Function: start, Context: ['                self.io_loop.start()\\n']\n",
      "File: /home/codespace/.local/lib/python3.12/site-packages/traitlets/config/application.py, Line: 1075, Function: launch_instance, Context: ['        app.start()\\n']\n",
      "File: /home/codespace/.local/lib/python3.12/site-packages/ipykernel_launcher.py, Line: 18, Function: <module>, Context: ['    app.launch_new_instance()\\n']\n",
      "File: <frozen runpy>, Line: 88, Function: _run_code, Context: None\n",
      "File: <frozen runpy>, Line: 198, Function: _run_module_as_main, Context: None\n"
     ]
    }
   ],
   "source": [
    "import inspect\n",
    "\n",
    "def foo():\n",
    "    bar()\n",
    "\n",
    "def bar():\n",
    "    stack = inspect.stack()\n",
    "    for frame_info in stack:\n",
    "        print(f\"File: {frame_info.filename}, Line: {frame_info.lineno}, Function: {frame_info.function}, Context: {frame_info.code_context}\")\n",
    "\n",
    "foo()\n"
   ]
  },
  {
   "cell_type": "code",
   "execution_count": 17,
   "metadata": {},
   "outputs": [
    {
     "name": "stdout",
     "output_type": "stream",
     "text": [
      "(<class 'object'>, ())\n",
      "[(<class '__main__.A'>, (<class 'object'>,)), [(<class '__main__.B'>, (<class '__main__.A'>,)), [(<class '__main__.C'>, (<class '__main__.B'>,))]]]\n"
     ]
    }
   ],
   "source": [
    "# The getclasstree() method will help in getting and inspecting class hierarchy. It returns a tuple of that class and that of its preceding base classes.\n",
    "# That combined with the getmro() method which returns the base classes helps in understanding the class hierarchy.\n",
    "for i in (inspect.getclasstree(inspect.getmro(C))): \n",
    "\tprint(i) \n"
   ]
  },
  {
   "cell_type": "code",
   "execution_count": 18,
   "metadata": {},
   "outputs": [
    {
     "name": "stdout",
     "output_type": "stream",
     "text": [
      "[('__doc__', 'This module provides access to the mathematical functions\\ndefined by the C standard.'), ('__file__', '/home/codespace/.python/current/lib/python3.12/lib-dynload/math.cpython-312-x86_64-linux-gnu.so'), ('__loader__', <_frozen_importlib_external.ExtensionFileLoader object at 0x72f499494a70>), ('__name__', 'math'), ('__package__', ''), ('__spec__', ModuleSpec(name='math', loader=<_frozen_importlib_external.ExtensionFileLoader object at 0x72f499494a70>, origin='/home/codespace/.python/current/lib/python3.12/lib-dynload/math.cpython-312-x86_64-linux-gnu.so')), ('acos', <built-in function acos>), ('acosh', <built-in function acosh>), ('asin', <built-in function asin>), ('asinh', <built-in function asinh>), ('atan', <built-in function atan>), ('atan2', <built-in function atan2>), ('atanh', <built-in function atanh>), ('cbrt', <built-in function cbrt>), ('ceil', <built-in function ceil>), ('comb', <built-in function comb>), ('copysign', <built-in function copysign>), ('cos', <built-in function cos>), ('cosh', <built-in function cosh>), ('degrees', <built-in function degrees>), ('dist', <built-in function dist>), ('e', 2.718281828459045), ('erf', <built-in function erf>), ('erfc', <built-in function erfc>), ('exp', <built-in function exp>), ('exp2', <built-in function exp2>), ('expm1', <built-in function expm1>), ('fabs', <built-in function fabs>), ('factorial', <built-in function factorial>), ('floor', <built-in function floor>), ('fmod', <built-in function fmod>), ('frexp', <built-in function frexp>), ('fsum', <built-in function fsum>), ('gamma', <built-in function gamma>), ('gcd', <built-in function gcd>), ('hypot', <built-in function hypot>), ('inf', inf), ('isclose', <built-in function isclose>), ('isfinite', <built-in function isfinite>), ('isinf', <built-in function isinf>), ('isnan', <built-in function isnan>), ('isqrt', <built-in function isqrt>), ('lcm', <built-in function lcm>), ('ldexp', <built-in function ldexp>), ('lgamma', <built-in function lgamma>), ('log', <built-in function log>), ('log10', <built-in function log10>), ('log1p', <built-in function log1p>), ('log2', <built-in function log2>), ('modf', <built-in function modf>), ('nan', nan), ('nextafter', <built-in function nextafter>), ('perm', <built-in function perm>), ('pi', 3.141592653589793), ('pow', <built-in function pow>), ('prod', <built-in function prod>), ('radians', <built-in function radians>), ('remainder', <built-in function remainder>), ('sin', <built-in function sin>), ('sinh', <built-in function sinh>), ('sqrt', <built-in function sqrt>), ('sumprod', <built-in function sumprod>), ('tan', <built-in function tan>), ('tanh', <built-in function tanh>), ('tau', 6.283185307179586), ('trunc', <built-in function trunc>), ('ulp', <built-in function ulp>)]\n"
     ]
    }
   ],
   "source": [
    "import math \n",
    "\n",
    "# shows the member functions \n",
    "# of any module or object   returns the member functions present in the module passed as an argument of this method.\n",
    "print(inspect.getmembers(math)) \n"
   ]
  },
  {
   "cell_type": "code",
   "execution_count": 22,
   "metadata": {},
   "outputs": [
    {
     "name": "stdout",
     "output_type": "stream",
     "text": [
      "(object)\n"
     ]
    }
   ],
   "source": [
    "import collections \n",
    "\n",
    "# use signature()  in understanding the attributes which are to be passed on to a function.\n",
    "print(inspect.signature(inspect.ismethod)) \n"
   ]
  },
  {
   "cell_type": "code",
   "execution_count": null,
   "metadata": {},
   "outputs": [],
   "source": []
  }
 ],
 "metadata": {
  "kernelspec": {
   "display_name": "Python 3",
   "language": "python",
   "name": "python3"
  },
  "language_info": {
   "codemirror_mode": {
    "name": "ipython",
    "version": 3
   },
   "file_extension": ".py",
   "mimetype": "text/x-python",
   "name": "python",
   "nbconvert_exporter": "python",
   "pygments_lexer": "ipython3",
   "version": "3.12.1"
  }
 },
 "nbformat": 4,
 "nbformat_minor": 2
}
